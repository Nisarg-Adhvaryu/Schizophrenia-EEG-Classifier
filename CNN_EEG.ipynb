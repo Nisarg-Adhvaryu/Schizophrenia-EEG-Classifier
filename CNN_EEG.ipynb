{
 "cells": [
  {
   "cell_type": "code",
   "execution_count": 115,
   "id": "199ab9f1-cdde-4b7e-a624-ca984d109726",
   "metadata": {},
   "outputs": [],
   "source": [
    "import pandas as pd\n",
    "import numpy as np\n",
    "import matplotlib.pyplot as plt\n",
    "%matplotlib inline"
   ]
  },
  {
   "cell_type": "code",
   "execution_count": 156,
   "id": "8b4a50a9-5ab0-4603-ae7a-1a32715caf76",
   "metadata": {},
   "outputs": [
    {
     "data": {
      "text/html": [
       "<div>\n",
       "<style scoped>\n",
       "    .dataframe tbody tr th:only-of-type {\n",
       "        vertical-align: middle;\n",
       "    }\n",
       "\n",
       "    .dataframe tbody tr th {\n",
       "        vertical-align: top;\n",
       "    }\n",
       "\n",
       "    .dataframe thead th {\n",
       "        text-align: right;\n",
       "    }\n",
       "</style>\n",
       "<table border=\"1\" class=\"dataframe\">\n",
       "  <thead>\n",
       "    <tr style=\"text-align: right;\">\n",
       "      <th></th>\n",
       "      <th>channel0</th>\n",
       "      <th>channel1</th>\n",
       "      <th>channel2</th>\n",
       "      <th>channel3</th>\n",
       "      <th>channel4</th>\n",
       "      <th>channel5</th>\n",
       "      <th>channel6</th>\n",
       "      <th>channel7</th>\n",
       "      <th>channel8</th>\n",
       "      <th>channel9</th>\n",
       "      <th>channel10</th>\n",
       "      <th>channel11</th>\n",
       "      <th>channel12</th>\n",
       "      <th>channel13</th>\n",
       "      <th>channel14</th>\n",
       "      <th>channel15</th>\n",
       "      <th>label</th>\n",
       "    </tr>\n",
       "  </thead>\n",
       "  <tbody>\n",
       "    <tr>\n",
       "      <th>0</th>\n",
       "      <td>347.78</td>\n",
       "      <td>198.73</td>\n",
       "      <td>637.59</td>\n",
       "      <td>298.09</td>\n",
       "      <td>278.77</td>\n",
       "      <td>77.28</td>\n",
       "      <td>259.45</td>\n",
       "      <td>408.50</td>\n",
       "      <td>118.69</td>\n",
       "      <td>-110.41</td>\n",
       "      <td>-460.94</td>\n",
       "      <td>-391.94</td>\n",
       "      <td>-11.04</td>\n",
       "      <td>278.77</td>\n",
       "      <td>-792.16</td>\n",
       "      <td>-281.53</td>\n",
       "      <td>0</td>\n",
       "    </tr>\n",
       "    <tr>\n",
       "      <th>1</th>\n",
       "      <td>507.87</td>\n",
       "      <td>358.82</td>\n",
       "      <td>659.67</td>\n",
       "      <td>317.42</td>\n",
       "      <td>378.14</td>\n",
       "      <td>198.73</td>\n",
       "      <td>378.14</td>\n",
       "      <td>449.90</td>\n",
       "      <td>179.41</td>\n",
       "      <td>-121.45</td>\n",
       "      <td>-422.30</td>\n",
       "      <td>-300.85</td>\n",
       "      <td>-22.08</td>\n",
       "      <td>309.14</td>\n",
       "      <td>-800.44</td>\n",
       "      <td>-240.13</td>\n",
       "      <td>0</td>\n",
       "    </tr>\n",
       "    <tr>\n",
       "      <th>2</th>\n",
       "      <td>488.54</td>\n",
       "      <td>449.90</td>\n",
       "      <td>488.54</td>\n",
       "      <td>317.42</td>\n",
       "      <td>378.14</td>\n",
       "      <td>419.54</td>\n",
       "      <td>529.95</td>\n",
       "      <td>499.58</td>\n",
       "      <td>149.05</td>\n",
       "      <td>-80.04</td>\n",
       "      <td>-41.40</td>\n",
       "      <td>129.73</td>\n",
       "      <td>138.01</td>\n",
       "      <td>309.14</td>\n",
       "      <td>-342.26</td>\n",
       "      <td>-11.04</td>\n",
       "      <td>0</td>\n",
       "    </tr>\n",
       "    <tr>\n",
       "      <th>3</th>\n",
       "      <td>369.86</td>\n",
       "      <td>309.14</td>\n",
       "      <td>328.46</td>\n",
       "      <td>289.81</td>\n",
       "      <td>317.42</td>\n",
       "      <td>397.46</td>\n",
       "      <td>507.87</td>\n",
       "      <td>458.18</td>\n",
       "      <td>88.32</td>\n",
       "      <td>27.60</td>\n",
       "      <td>259.45</td>\n",
       "      <td>427.82</td>\n",
       "      <td>309.14</td>\n",
       "      <td>289.81</td>\n",
       "      <td>69.00</td>\n",
       "      <td>259.45</td>\n",
       "      <td>0</td>\n",
       "    </tr>\n",
       "    <tr>\n",
       "      <th>4</th>\n",
       "      <td>347.78</td>\n",
       "      <td>149.05</td>\n",
       "      <td>248.41</td>\n",
       "      <td>289.81</td>\n",
       "      <td>328.46</td>\n",
       "      <td>408.50</td>\n",
       "      <td>529.95</td>\n",
       "      <td>477.50</td>\n",
       "      <td>187.69</td>\n",
       "      <td>458.18</td>\n",
       "      <td>797.68</td>\n",
       "      <td>858.40</td>\n",
       "      <td>687.27</td>\n",
       "      <td>378.14</td>\n",
       "      <td>877.72</td>\n",
       "      <td>709.36</td>\n",
       "      <td>0</td>\n",
       "    </tr>\n",
       "  </tbody>\n",
       "</table>\n",
       "</div>"
      ],
      "text/plain": [
       "   channel0  channel1  channel2  channel3  channel4  channel5  channel6  \\\n",
       "0    347.78    198.73    637.59    298.09    278.77     77.28    259.45   \n",
       "1    507.87    358.82    659.67    317.42    378.14    198.73    378.14   \n",
       "2    488.54    449.90    488.54    317.42    378.14    419.54    529.95   \n",
       "3    369.86    309.14    328.46    289.81    317.42    397.46    507.87   \n",
       "4    347.78    149.05    248.41    289.81    328.46    408.50    529.95   \n",
       "\n",
       "   channel7  channel8  channel9  channel10  channel11  channel12  channel13  \\\n",
       "0    408.50    118.69   -110.41    -460.94    -391.94     -11.04     278.77   \n",
       "1    449.90    179.41   -121.45    -422.30    -300.85     -22.08     309.14   \n",
       "2    499.58    149.05    -80.04     -41.40     129.73     138.01     309.14   \n",
       "3    458.18     88.32     27.60     259.45     427.82     309.14     289.81   \n",
       "4    477.50    187.69    458.18     797.68     858.40     687.27     378.14   \n",
       "\n",
       "   channel14  channel15  label  \n",
       "0    -792.16    -281.53      0  \n",
       "1    -800.44    -240.13      0  \n",
       "2    -342.26     -11.04      0  \n",
       "3      69.00     259.45      0  \n",
       "4     877.72     709.36      0  "
      ]
     },
     "execution_count": 156,
     "metadata": {},
     "output_type": "execute_result"
    }
   ],
   "source": [
    "df = pd.read_csv(\"C:\\\\Users\\\\nisar\\\\one drive\\\\Desktop\\\\IEEE\\\\combined_eeg_data.csv\")\n",
    "df = df.drop('file_name', axis=1)\n",
    "df.head()"
   ]
  },
  {
   "cell_type": "code",
   "execution_count": 158,
   "id": "6f27a9df-2532-45ab-9698-a0177078ae8e",
   "metadata": {},
   "outputs": [],
   "source": [
    "from sklearn.model_selection import train_test_split\n",
    "from sklearn.preprocessing import StandardScaler"
   ]
  },
  {
   "cell_type": "code",
   "execution_count": 166,
   "id": "f0cd620f-949b-4630-abd7-0f0c0aff21a4",
   "metadata": {},
   "outputs": [],
   "source": [
    "X = df.drop(['label'], axis=1)  # EEG channels are the features\n",
    "y = df['label']  # Target labels (0 for healthy, 1 for schizophrenic)"
   ]
  },
  {
   "cell_type": "code",
   "execution_count": 168,
   "id": "456b69fb-66d9-4798-a010-f446e01caff6",
   "metadata": {},
   "outputs": [],
   "source": [
    "X_train, X_test, y_train, y_test = train_test_split(X, y, test_size=0.2, random_state=42)"
   ]
  },
  {
   "cell_type": "code",
   "execution_count": 170,
   "id": "d4a7afde-e2ef-4671-9a1b-86e6ea96c2ba",
   "metadata": {},
   "outputs": [
    {
     "name": "stdout",
     "output_type": "stream",
     "text": [
      "[0 1]\n"
     ]
    }
   ],
   "source": [
    "print(np.unique(y))"
   ]
  },
  {
   "cell_type": "code",
   "execution_count": 178,
   "id": "147a9b58-84f1-452a-9445-6241d8e90e3b",
   "metadata": {},
   "outputs": [],
   "source": [
    "X_train = X_train.values.reshape(X_train.shape[0], X_train.shape[1], 1)\n",
    "X_test = X_test.values.reshape(X_test.shape[0], X_test.shape[1], 1)"
   ]
  },
  {
   "cell_type": "code",
   "execution_count": 182,
   "id": "eef7973b-0395-4d0e-95a8-b06bc0955168",
   "metadata": {},
   "outputs": [],
   "source": [
    "scaler = StandardScaler()\n",
    "X_train = scaler.fit_transform(X_train.reshape(-1, X_train.shape[-1])).reshape(X_train.shape)\n",
    "X_test = scaler.transform(X_test.reshape(-1, X_test.shape[-1])).reshape(X_test.shape)"
   ]
  },
  {
   "cell_type": "code",
   "execution_count": 184,
   "id": "2c3772d9-fc67-4b7b-8277-65e36817e858",
   "metadata": {},
   "outputs": [],
   "source": [
    "import tensorflow as tf\n",
    "from tensorflow.keras.models import Sequential\n",
    "from tensorflow.keras.layers import Conv1D, Dense, Flatten, Input\n",
    "from tensorflow.keras.utils import plot_model"
   ]
  },
  {
   "cell_type": "code",
   "execution_count": 186,
   "id": "5bb5dd5a-1ed3-47ed-b554-a02e633afb7f",
   "metadata": {},
   "outputs": [],
   "source": [
    "CNN_model = Sequential()"
   ]
  },
  {
   "cell_type": "code",
   "execution_count": 188,
   "id": "a7f13f28-8ae7-42e2-b8e3-8134b8a572e3",
   "metadata": {},
   "outputs": [],
   "source": [
    "# Input layer using Input() to define the input shape\n",
    "CNN_model.add(Input(shape=(X_train.shape[1], 1)))"
   ]
  },
  {
   "cell_type": "code",
   "execution_count": 190,
   "id": "4e67b0d4-69b2-49ec-9680-9a4a81177407",
   "metadata": {},
   "outputs": [],
   "source": [
    "# Add a Conv1D layer\n",
    "CNN_model.add(Conv1D(filters=64, kernel_size=2, activation='relu'))"
   ]
  },
  {
   "cell_type": "code",
   "execution_count": 192,
   "id": "1c3944d4-3b28-4a41-b94c-f78ce2c4aecd",
   "metadata": {},
   "outputs": [],
   "source": [
    "# Flatten the output of the Conv1D layer before feeding into Dense layers\n",
    "CNN_model.add(Flatten())"
   ]
  },
  {
   "cell_type": "code",
   "execution_count": 194,
   "id": "353f64a5-f039-442c-9d76-f0331896e96c",
   "metadata": {},
   "outputs": [],
   "source": [
    "# Adding a Dense layer for further learning\n",
    "CNN_model.add(Dense(64, activation='relu'))"
   ]
  },
  {
   "cell_type": "code",
   "execution_count": 196,
   "id": "9e48949d-00be-4ca0-a916-fb36a2ff5844",
   "metadata": {},
   "outputs": [],
   "source": [
    "# Output layer for binary classification (healthy = 0, schizophrenia = 1)\n",
    "CNN_model.add(Dense(1, activation='sigmoid'))"
   ]
  },
  {
   "cell_type": "code",
   "execution_count": 204,
   "id": "1da0f998-b65e-46fe-bdf6-6ca46965f892",
   "metadata": {},
   "outputs": [],
   "source": [
    "CNN_model.compile(optimizer='adam', loss='binary_crossentropy', metrics=['accuracy'])"
   ]
  },
  {
   "cell_type": "code",
   "execution_count": 206,
   "id": "f6131a97-3204-4619-a49f-625f2bb5f632",
   "metadata": {},
   "outputs": [
    {
     "data": {
      "text/html": [
       "<pre style=\"white-space:pre;overflow-x:auto;line-height:normal;font-family:Menlo,'DejaVu Sans Mono',consolas,'Courier New',monospace\"><span style=\"font-weight: bold\">Model: \"sequential_4\"</span>\n",
       "</pre>\n"
      ],
      "text/plain": [
       "\u001b[1mModel: \"sequential_4\"\u001b[0m\n"
      ]
     },
     "metadata": {},
     "output_type": "display_data"
    },
    {
     "data": {
      "text/html": [
       "<pre style=\"white-space:pre;overflow-x:auto;line-height:normal;font-family:Menlo,'DejaVu Sans Mono',consolas,'Courier New',monospace\">┏━━━━━━━━━━━━━━━━━━━━━━━━━━━━━━━━━┳━━━━━━━━━━━━━━━━━━━━━━━━┳━━━━━━━━━━━━━━━┓\n",
       "┃<span style=\"font-weight: bold\"> Layer (type)                    </span>┃<span style=\"font-weight: bold\"> Output Shape           </span>┃<span style=\"font-weight: bold\">       Param # </span>┃\n",
       "┡━━━━━━━━━━━━━━━━━━━━━━━━━━━━━━━━━╇━━━━━━━━━━━━━━━━━━━━━━━━╇━━━━━━━━━━━━━━━┩\n",
       "│ conv1d_4 (<span style=\"color: #0087ff; text-decoration-color: #0087ff\">Conv1D</span>)               │ (<span style=\"color: #00d7ff; text-decoration-color: #00d7ff\">None</span>, <span style=\"color: #00af00; text-decoration-color: #00af00\">15</span>, <span style=\"color: #00af00; text-decoration-color: #00af00\">64</span>)         │           <span style=\"color: #00af00; text-decoration-color: #00af00\">192</span> │\n",
       "├─────────────────────────────────┼────────────────────────┼───────────────┤\n",
       "│ flatten_3 (<span style=\"color: #0087ff; text-decoration-color: #0087ff\">Flatten</span>)             │ (<span style=\"color: #00d7ff; text-decoration-color: #00d7ff\">None</span>, <span style=\"color: #00af00; text-decoration-color: #00af00\">960</span>)            │             <span style=\"color: #00af00; text-decoration-color: #00af00\">0</span> │\n",
       "├─────────────────────────────────┼────────────────────────┼───────────────┤\n",
       "│ dense_6 (<span style=\"color: #0087ff; text-decoration-color: #0087ff\">Dense</span>)                 │ (<span style=\"color: #00d7ff; text-decoration-color: #00d7ff\">None</span>, <span style=\"color: #00af00; text-decoration-color: #00af00\">64</span>)             │        <span style=\"color: #00af00; text-decoration-color: #00af00\">61,504</span> │\n",
       "├─────────────────────────────────┼────────────────────────┼───────────────┤\n",
       "│ dense_7 (<span style=\"color: #0087ff; text-decoration-color: #0087ff\">Dense</span>)                 │ (<span style=\"color: #00d7ff; text-decoration-color: #00d7ff\">None</span>, <span style=\"color: #00af00; text-decoration-color: #00af00\">1</span>)              │            <span style=\"color: #00af00; text-decoration-color: #00af00\">65</span> │\n",
       "└─────────────────────────────────┴────────────────────────┴───────────────┘\n",
       "</pre>\n"
      ],
      "text/plain": [
       "┏━━━━━━━━━━━━━━━━━━━━━━━━━━━━━━━━━┳━━━━━━━━━━━━━━━━━━━━━━━━┳━━━━━━━━━━━━━━━┓\n",
       "┃\u001b[1m \u001b[0m\u001b[1mLayer (type)                   \u001b[0m\u001b[1m \u001b[0m┃\u001b[1m \u001b[0m\u001b[1mOutput Shape          \u001b[0m\u001b[1m \u001b[0m┃\u001b[1m \u001b[0m\u001b[1m      Param #\u001b[0m\u001b[1m \u001b[0m┃\n",
       "┡━━━━━━━━━━━━━━━━━━━━━━━━━━━━━━━━━╇━━━━━━━━━━━━━━━━━━━━━━━━╇━━━━━━━━━━━━━━━┩\n",
       "│ conv1d_4 (\u001b[38;5;33mConv1D\u001b[0m)               │ (\u001b[38;5;45mNone\u001b[0m, \u001b[38;5;34m15\u001b[0m, \u001b[38;5;34m64\u001b[0m)         │           \u001b[38;5;34m192\u001b[0m │\n",
       "├─────────────────────────────────┼────────────────────────┼───────────────┤\n",
       "│ flatten_3 (\u001b[38;5;33mFlatten\u001b[0m)             │ (\u001b[38;5;45mNone\u001b[0m, \u001b[38;5;34m960\u001b[0m)            │             \u001b[38;5;34m0\u001b[0m │\n",
       "├─────────────────────────────────┼────────────────────────┼───────────────┤\n",
       "│ dense_6 (\u001b[38;5;33mDense\u001b[0m)                 │ (\u001b[38;5;45mNone\u001b[0m, \u001b[38;5;34m64\u001b[0m)             │        \u001b[38;5;34m61,504\u001b[0m │\n",
       "├─────────────────────────────────┼────────────────────────┼───────────────┤\n",
       "│ dense_7 (\u001b[38;5;33mDense\u001b[0m)                 │ (\u001b[38;5;45mNone\u001b[0m, \u001b[38;5;34m1\u001b[0m)              │            \u001b[38;5;34m65\u001b[0m │\n",
       "└─────────────────────────────────┴────────────────────────┴───────────────┘\n"
      ]
     },
     "metadata": {},
     "output_type": "display_data"
    },
    {
     "data": {
      "text/html": [
       "<pre style=\"white-space:pre;overflow-x:auto;line-height:normal;font-family:Menlo,'DejaVu Sans Mono',consolas,'Courier New',monospace\"><span style=\"font-weight: bold\"> Total params: </span><span style=\"color: #00af00; text-decoration-color: #00af00\">61,761</span> (241.25 KB)\n",
       "</pre>\n"
      ],
      "text/plain": [
       "\u001b[1m Total params: \u001b[0m\u001b[38;5;34m61,761\u001b[0m (241.25 KB)\n"
      ]
     },
     "metadata": {},
     "output_type": "display_data"
    },
    {
     "data": {
      "text/html": [
       "<pre style=\"white-space:pre;overflow-x:auto;line-height:normal;font-family:Menlo,'DejaVu Sans Mono',consolas,'Courier New',monospace\"><span style=\"font-weight: bold\"> Trainable params: </span><span style=\"color: #00af00; text-decoration-color: #00af00\">61,761</span> (241.25 KB)\n",
       "</pre>\n"
      ],
      "text/plain": [
       "\u001b[1m Trainable params: \u001b[0m\u001b[38;5;34m61,761\u001b[0m (241.25 KB)\n"
      ]
     },
     "metadata": {},
     "output_type": "display_data"
    },
    {
     "data": {
      "text/html": [
       "<pre style=\"white-space:pre;overflow-x:auto;line-height:normal;font-family:Menlo,'DejaVu Sans Mono',consolas,'Courier New',monospace\"><span style=\"font-weight: bold\"> Non-trainable params: </span><span style=\"color: #00af00; text-decoration-color: #00af00\">0</span> (0.00 B)\n",
       "</pre>\n"
      ],
      "text/plain": [
       "\u001b[1m Non-trainable params: \u001b[0m\u001b[38;5;34m0\u001b[0m (0.00 B)\n"
      ]
     },
     "metadata": {},
     "output_type": "display_data"
    }
   ],
   "source": [
    "CNN_model.summary()"
   ]
  },
  {
   "cell_type": "code",
   "execution_count": 208,
   "id": "f4ad6ecb-3b3b-435a-a4ff-aeac211c8989",
   "metadata": {},
   "outputs": [
    {
     "name": "stdout",
     "output_type": "stream",
     "text": [
      "Epoch 1/20\n",
      "\u001b[1m16128/16128\u001b[0m \u001b[32m━━━━━━━━━━━━━━━━━━━━\u001b[0m\u001b[37m\u001b[0m \u001b[1m17s\u001b[0m 1ms/step - accuracy: 0.6401 - loss: 0.6248 - val_accuracy: 0.6753 - val_loss: 0.5903\n",
      "Epoch 2/20\n",
      "\u001b[1m16128/16128\u001b[0m \u001b[32m━━━━━━━━━━━━━━━━━━━━\u001b[0m\u001b[37m\u001b[0m \u001b[1m16s\u001b[0m 1ms/step - accuracy: 0.6791 - loss: 0.5870 - val_accuracy: 0.6859 - val_loss: 0.5771\n",
      "Epoch 3/20\n",
      "\u001b[1m16128/16128\u001b[0m \u001b[32m━━━━━━━━━━━━━━━━━━━━\u001b[0m\u001b[37m\u001b[0m \u001b[1m16s\u001b[0m 1ms/step - accuracy: 0.6881 - loss: 0.5758 - val_accuracy: 0.6911 - val_loss: 0.5730\n",
      "Epoch 4/20\n",
      "\u001b[1m16128/16128\u001b[0m \u001b[32m━━━━━━━━━━━━━━━━━━━━\u001b[0m\u001b[37m\u001b[0m \u001b[1m16s\u001b[0m 1ms/step - accuracy: 0.6936 - loss: 0.5685 - val_accuracy: 0.6967 - val_loss: 0.5682\n",
      "Epoch 5/20\n",
      "\u001b[1m16128/16128\u001b[0m \u001b[32m━━━━━━━━━━━━━━━━━━━━\u001b[0m\u001b[37m\u001b[0m \u001b[1m16s\u001b[0m 1ms/step - accuracy: 0.6993 - loss: 0.5628 - val_accuracy: 0.6980 - val_loss: 0.5649\n",
      "Epoch 6/20\n",
      "\u001b[1m16128/16128\u001b[0m \u001b[32m━━━━━━━━━━━━━━━━━━━━\u001b[0m\u001b[37m\u001b[0m \u001b[1m16s\u001b[0m 1ms/step - accuracy: 0.7029 - loss: 0.5587 - val_accuracy: 0.6985 - val_loss: 0.5649\n",
      "Epoch 7/20\n",
      "\u001b[1m16128/16128\u001b[0m \u001b[32m━━━━━━━━━━━━━━━━━━━━\u001b[0m\u001b[37m\u001b[0m \u001b[1m16s\u001b[0m 1ms/step - accuracy: 0.7065 - loss: 0.5547 - val_accuracy: 0.7058 - val_loss: 0.5576\n",
      "Epoch 8/20\n",
      "\u001b[1m16128/16128\u001b[0m \u001b[32m━━━━━━━━━━━━━━━━━━━━\u001b[0m\u001b[37m\u001b[0m \u001b[1m16s\u001b[0m 1ms/step - accuracy: 0.7079 - loss: 0.5521 - val_accuracy: 0.7075 - val_loss: 0.5553\n",
      "Epoch 9/20\n",
      "\u001b[1m16128/16128\u001b[0m \u001b[32m━━━━━━━━━━━━━━━━━━━━\u001b[0m\u001b[37m\u001b[0m \u001b[1m16s\u001b[0m 1ms/step - accuracy: 0.7109 - loss: 0.5495 - val_accuracy: 0.7049 - val_loss: 0.5565\n",
      "Epoch 10/20\n",
      "\u001b[1m16128/16128\u001b[0m \u001b[32m━━━━━━━━━━━━━━━━━━━━\u001b[0m\u001b[37m\u001b[0m \u001b[1m16s\u001b[0m 1ms/step - accuracy: 0.7129 - loss: 0.5476 - val_accuracy: 0.7087 - val_loss: 0.5526\n",
      "Epoch 11/20\n",
      "\u001b[1m16128/16128\u001b[0m \u001b[32m━━━━━━━━━━━━━━━━━━━━\u001b[0m\u001b[37m\u001b[0m \u001b[1m16s\u001b[0m 1ms/step - accuracy: 0.7144 - loss: 0.5454 - val_accuracy: 0.7086 - val_loss: 0.5548\n",
      "Epoch 12/20\n",
      "\u001b[1m16128/16128\u001b[0m \u001b[32m━━━━━━━━━━━━━━━━━━━━\u001b[0m\u001b[37m\u001b[0m \u001b[1m16s\u001b[0m 1ms/step - accuracy: 0.7147 - loss: 0.5440 - val_accuracy: 0.7075 - val_loss: 0.5527\n",
      "Epoch 13/20\n",
      "\u001b[1m16128/16128\u001b[0m \u001b[32m━━━━━━━━━━━━━━━━━━━━\u001b[0m\u001b[37m\u001b[0m \u001b[1m16s\u001b[0m 1ms/step - accuracy: 0.7171 - loss: 0.5414 - val_accuracy: 0.7120 - val_loss: 0.5479\n",
      "Epoch 14/20\n",
      "\u001b[1m16128/16128\u001b[0m \u001b[32m━━━━━━━━━━━━━━━━━━━━\u001b[0m\u001b[37m\u001b[0m \u001b[1m16s\u001b[0m 999us/step - accuracy: 0.7168 - loss: 0.5405 - val_accuracy: 0.7118 - val_loss: 0.5492\n",
      "Epoch 15/20\n",
      "\u001b[1m16128/16128\u001b[0m \u001b[32m━━━━━━━━━━━━━━━━━━━━\u001b[0m\u001b[37m\u001b[0m \u001b[1m17s\u001b[0m 1ms/step - accuracy: 0.7178 - loss: 0.5395 - val_accuracy: 0.7111 - val_loss: 0.5502\n",
      "Epoch 16/20\n",
      "\u001b[1m16128/16128\u001b[0m \u001b[32m━━━━━━━━━━━━━━━━━━━━\u001b[0m\u001b[37m\u001b[0m \u001b[1m17s\u001b[0m 1ms/step - accuracy: 0.7183 - loss: 0.5380 - val_accuracy: 0.7120 - val_loss: 0.5498\n",
      "Epoch 17/20\n",
      "\u001b[1m16128/16128\u001b[0m \u001b[32m━━━━━━━━━━━━━━━━━━━━\u001b[0m\u001b[37m\u001b[0m \u001b[1m17s\u001b[0m 1ms/step - accuracy: 0.7184 - loss: 0.5376 - val_accuracy: 0.7115 - val_loss: 0.5495\n",
      "Epoch 18/20\n",
      "\u001b[1m16128/16128\u001b[0m \u001b[32m━━━━━━━━━━━━━━━━━━━━\u001b[0m\u001b[37m\u001b[0m \u001b[1m17s\u001b[0m 1ms/step - accuracy: 0.7222 - loss: 0.5349 - val_accuracy: 0.7133 - val_loss: 0.5463\n",
      "Epoch 19/20\n",
      "\u001b[1m16128/16128\u001b[0m \u001b[32m━━━━━━━━━━━━━━━━━━━━\u001b[0m\u001b[37m\u001b[0m \u001b[1m17s\u001b[0m 1ms/step - accuracy: 0.7213 - loss: 0.5350 - val_accuracy: 0.7127 - val_loss: 0.5486\n",
      "Epoch 20/20\n",
      "\u001b[1m16128/16128\u001b[0m \u001b[32m━━━━━━━━━━━━━━━━━━━━\u001b[0m\u001b[37m\u001b[0m \u001b[1m16s\u001b[0m 1ms/step - accuracy: 0.7220 - loss: 0.5342 - val_accuracy: 0.7145 - val_loss: 0.5461\n"
     ]
    }
   ],
   "source": [
    "# Training the model\n",
    "history = CNN_model.fit(X_train, y_train, epochs=20, batch_size=32, validation_data=(X_test, y_test))"
   ]
  },
  {
   "cell_type": "code",
   "execution_count": 210,
   "id": "3076b39f-dc78-492e-aa5f-df795c02cd44",
   "metadata": {},
   "outputs": [
    {
     "name": "stdout",
     "output_type": "stream",
     "text": [
      "\u001b[1m4032/4032\u001b[0m \u001b[32m━━━━━━━━━━━━━━━━━━━━\u001b[0m\u001b[37m\u001b[0m \u001b[1m2s\u001b[0m 557us/step\n"
     ]
    }
   ],
   "source": [
    "# Evaluating the model\n",
    "y_pred_cnn = (CNN_model.predict(X_test) > 0.5).astype(int)\n"
   ]
  },
  {
   "cell_type": "code",
   "execution_count": 214,
   "id": "df82b5e7-4811-4bb4-9b30-79ddeb6afbb4",
   "metadata": {},
   "outputs": [],
   "source": [
    "from sklearn.metrics import accuracy_score, confusion_matrix, classification_report"
   ]
  },
  {
   "cell_type": "code",
   "execution_count": 216,
   "id": "12ea009e-0b02-4d7f-836d-5fa012e21f35",
   "metadata": {},
   "outputs": [],
   "source": [
    "accuracy_cnn = accuracy_score(y_test, y_pred_cnn)\n",
    "conf_matrix_cnn = confusion_matrix(y_test, y_pred_cnn)\n",
    "class_report_cnn = classification_report(y_test, y_pred_cnn)"
   ]
  },
  {
   "cell_type": "code",
   "execution_count": 218,
   "id": "ee88d37b-a9b6-4c95-9642-ff0f0d57bb8e",
   "metadata": {},
   "outputs": [
    {
     "name": "stdout",
     "output_type": "stream",
     "text": [
      "Accuracy: 0.7145\n",
      "Confusion Matrix:\n",
      "[[40180 19621]\n",
      " [17214 52009]]\n",
      "Classification Report:\n",
      "              precision    recall  f1-score   support\n",
      "\n",
      "           0       0.70      0.67      0.69     59801\n",
      "           1       0.73      0.75      0.74     69223\n",
      "\n",
      "    accuracy                           0.71    129024\n",
      "   macro avg       0.71      0.71      0.71    129024\n",
      "weighted avg       0.71      0.71      0.71    129024\n",
      "\n"
     ]
    }
   ],
   "source": [
    "print(f\"Accuracy: {accuracy_cnn:.4f}\")\n",
    "print(\"Confusion Matrix:\")\n",
    "print(conf_matrix_cnn)\n",
    "print(\"Classification Report:\")\n",
    "print(class_report_cnn)"
   ]
  },
  {
   "cell_type": "code",
   "execution_count": 220,
   "id": "ba418901-3f33-402d-aa76-c717309674af",
   "metadata": {},
   "outputs": [],
   "source": [
    "import seaborn as sns"
   ]
  },
  {
   "cell_type": "code",
   "execution_count": 222,
   "id": "4838c8c5-c70f-4fa2-b821-cc8b3394d9e3",
   "metadata": {},
   "outputs": [
    {
     "data": {
      "image/png": "[encoded data removed]",
      "text/plain": [
       "<Figure size 600x400 with 1 Axes>"
      ]
     },
     "metadata": {},
     "output_type": "display_data"
    }
   ],
   "source": [
    "plt.figure(figsize=(6, 4))\n",
    "sns.heatmap(conf_matrix_cnn, annot=True, fmt=\"d\", cmap=\"Blues\", cbar=False)\n",
    "plt.title('Confusion Matrix')\n",
    "plt.ylabel('True Label')\n",
    "plt.xlabel('Predicted Label')\n",
    "plt.show()"
   ]
  },
  {
   "cell_type": "code",
   "execution_count": 224,
   "id": "f4b82cfc-808e-4ffd-b45c-0b15e903fb60",
   "metadata": {},
   "outputs": [
    {
     "data": {
      "text/plain": [
       "<Figure size 1200x400 with 0 Axes>"
      ]
     },
     "execution_count": 224,
     "metadata": {},
     "output_type": "execute_result"
    },
    {
     "data": {
      "text/plain": [
       "<Figure size 1200x400 with 0 Axes>"
      ]
     },
     "metadata": {},
     "output_type": "display_data"
    }
   ],
   "source": [
    "plt.figure(figsize=(12, 4))"
   ]
  },
  {
   "cell_type": "code",
   "execution_count": 226,
   "id": "4db2eeac-a5a3-4460-b7cd-1aab5a995ff8",
   "metadata": {},
   "outputs": [
    {
     "data": {
      "text/plain": [
       "<matplotlib.legend.Legend at 0x1ab0a363590>"
      ]
     },
     "execution_count": 226,
     "metadata": {},
     "output_type": "execute_result"
    },
    {
     "data": {
      "image/png": "[encoded data removed]",
      "text/plain": [
       "<Figure size 640x480 with 1 Axes>"
      ]
     },
     "metadata": {},
     "output_type": "display_data"
    }
   ],
   "source": [
    "plt.subplot(1, 2, 1)\n",
    "plt.plot(history.history['accuracy'], label='Train Accuracy')\n",
    "plt.plot(history.history['val_accuracy'], label='Validation Accuracy')\n",
    "plt.title('Training and Validation Accuracy')\n",
    "plt.xlabel('Epochs')\n",
    "plt.ylabel('Accuracy')\n",
    "plt.legend()"
   ]
  },
  {
   "cell_type": "code",
   "execution_count": 240,
   "id": "fa946fff-2d8d-4128-bb05-5fd9fdff08f9",
   "metadata": {},
   "outputs": [
    {
     "data": {
      "text/plain": [
       "<matplotlib.legend.Legend at 0x1ab0871d9d0>"
      ]
     },
     "execution_count": 240,
     "metadata": {},
     "output_type": "execute_result"
    },
    {
     "data": {
      "image/png": "[encoded data removed]",
      "text/plain": [
       "<Figure size 640x480 with 1 Axes>"
      ]
     },
     "metadata": {},
     "output_type": "display_data"
    }
   ],
   "source": [
    "plt.subplot(1, 2, 2)\n",
    "plt.plot(history.history['loss'], label='Train Loss')\n",
    "plt.plot(history.history['val_loss'], label='Validation Loss')\n",
    "plt.title('Training and Validation Loss')\n",
    "plt.xlabel('Epochs')\n",
    "plt.ylabel('Loss')\n",
    "plt.legend()"
   ]
  }
 ],
 "metadata": {
  "kernelspec": {
   "display_name": "Python 3 (ipykernel)",
   "language": "python",
   "name": "python3"
  },
  "language_info": {
   "codemirror_mode": {
    "name": "ipython",
    "version": 3
   },
   "file_extension": ".py",
   "mimetype": "text/x-python",
   "name": "python",
   "nbconvert_exporter": "python",
   "pygments_lexer": "ipython3",
   "version": "3.12.4"
  }
 },
 "nbformat": 4,
 "nbformat_minor": 5
}
