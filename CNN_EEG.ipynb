{
 "cells": [
  {
   "cell_type": "code",
   "execution_count": 3,
   "id": "199ab9f1-cdde-4b7e-a624-ca984d109726",
   "metadata": {},
   "outputs": [],
   "source": [
    "import pandas as pd\n",
    "import numpy as np\n",
    "import matplotlib.pyplot as plt\n",
    "%matplotlib inline"
   ]
  },
  {
   "cell_type": "code",
   "execution_count": 4,
   "id": "8b4a50a9-5ab0-4603-ae7a-1a32715caf76",
   "metadata": {},
   "outputs": [
    {
     "data": {
      "text/html": [
       "<div>\n",
       "<style scoped>\n",
       "    .dataframe tbody tr th:only-of-type {\n",
       "        vertical-align: middle;\n",
       "    }\n",
       "\n",
       "    .dataframe tbody tr th {\n",
       "        vertical-align: top;\n",
       "    }\n",
       "\n",
       "    .dataframe thead th {\n",
       "        text-align: right;\n",
       "    }\n",
       "</style>\n",
       "<table border=\"1\" class=\"dataframe\">\n",
       "  <thead>\n",
       "    <tr style=\"text-align: right;\">\n",
       "      <th></th>\n",
       "      <th>channel0</th>\n",
       "      <th>channel1</th>\n",
       "      <th>channel2</th>\n",
       "      <th>channel3</th>\n",
       "      <th>channel4</th>\n",
       "      <th>channel5</th>\n",
       "      <th>channel6</th>\n",
       "      <th>channel7</th>\n",
       "      <th>channel8</th>\n",
       "      <th>channel9</th>\n",
       "      <th>channel10</th>\n",
       "      <th>channel11</th>\n",
       "      <th>channel12</th>\n",
       "      <th>channel13</th>\n",
       "      <th>channel14</th>\n",
       "      <th>channel15</th>\n",
       "      <th>label</th>\n",
       "    </tr>\n",
       "  </thead>\n",
       "  <tbody>\n",
       "    <tr>\n",
       "      <th>0</th>\n",
       "      <td>-30.06</td>\n",
       "      <td>259.96</td>\n",
       "      <td>39.79</td>\n",
       "      <td>-210.44</td>\n",
       "      <td>79.58</td>\n",
       "      <td>9.73</td>\n",
       "      <td>-90.19</td>\n",
       "      <td>-150.32</td>\n",
       "      <td>-150.32</td>\n",
       "      <td>99.92</td>\n",
       "      <td>-110.53</td>\n",
       "      <td>59.24</td>\n",
       "      <td>-10.61</td>\n",
       "      <td>9.73</td>\n",
       "      <td>379.33</td>\n",
       "      <td>0.00</td>\n",
       "      <td>0</td>\n",
       "    </tr>\n",
       "    <tr>\n",
       "      <th>1</th>\n",
       "      <td>-70.74</td>\n",
       "      <td>259.96</td>\n",
       "      <td>39.79</td>\n",
       "      <td>-250.23</td>\n",
       "      <td>99.92</td>\n",
       "      <td>-20.34</td>\n",
       "      <td>-10.61</td>\n",
       "      <td>-150.32</td>\n",
       "      <td>-210.44</td>\n",
       "      <td>179.50</td>\n",
       "      <td>-30.06</td>\n",
       "      <td>149.43</td>\n",
       "      <td>9.73</td>\n",
       "      <td>-70.74</td>\n",
       "      <td>439.46</td>\n",
       "      <td>9.73</td>\n",
       "      <td>0</td>\n",
       "    </tr>\n",
       "    <tr>\n",
       "      <th>2</th>\n",
       "      <td>-90.19</td>\n",
       "      <td>219.29</td>\n",
       "      <td>79.58</td>\n",
       "      <td>-110.53</td>\n",
       "      <td>39.79</td>\n",
       "      <td>59.24</td>\n",
       "      <td>119.37</td>\n",
       "      <td>-70.74</td>\n",
       "      <td>-90.19</td>\n",
       "      <td>199.83</td>\n",
       "      <td>119.37</td>\n",
       "      <td>159.16</td>\n",
       "      <td>39.79</td>\n",
       "      <td>-10.61</td>\n",
       "      <td>439.46</td>\n",
       "      <td>-20.34</td>\n",
       "      <td>0</td>\n",
       "    </tr>\n",
       "    <tr>\n",
       "      <th>3</th>\n",
       "      <td>29.18</td>\n",
       "      <td>269.69</td>\n",
       "      <td>129.98</td>\n",
       "      <td>-20.34</td>\n",
       "      <td>39.79</td>\n",
       "      <td>99.92</td>\n",
       "      <td>179.50</td>\n",
       "      <td>-10.61</td>\n",
       "      <td>0.00</td>\n",
       "      <td>179.50</td>\n",
       "      <td>209.56</td>\n",
       "      <td>109.64</td>\n",
       "      <td>89.31</td>\n",
       "      <td>19.45</td>\n",
       "      <td>359.88</td>\n",
       "      <td>19.45</td>\n",
       "      <td>0</td>\n",
       "    </tr>\n",
       "    <tr>\n",
       "      <th>4</th>\n",
       "      <td>229.90</td>\n",
       "      <td>419.12</td>\n",
       "      <td>159.16</td>\n",
       "      <td>119.37</td>\n",
       "      <td>59.24</td>\n",
       "      <td>219.29</td>\n",
       "      <td>219.29</td>\n",
       "      <td>39.79</td>\n",
       "      <td>199.83</td>\n",
       "      <td>79.58</td>\n",
       "      <td>239.62</td>\n",
       "      <td>-70.74</td>\n",
       "      <td>79.58</td>\n",
       "      <td>79.58</td>\n",
       "      <td>59.24</td>\n",
       "      <td>-50.40</td>\n",
       "      <td>0</td>\n",
       "    </tr>\n",
       "  </tbody>\n",
       "</table>\n",
       "</div>"
      ],
      "text/plain": [
       "   channel0  channel1  channel2  channel3  channel4  channel5  channel6  \\\n",
       "0    -30.06    259.96     39.79   -210.44     79.58      9.73    -90.19   \n",
       "1    -70.74    259.96     39.79   -250.23     99.92    -20.34    -10.61   \n",
       "2    -90.19    219.29     79.58   -110.53     39.79     59.24    119.37   \n",
       "3     29.18    269.69    129.98    -20.34     39.79     99.92    179.50   \n",
       "4    229.90    419.12    159.16    119.37     59.24    219.29    219.29   \n",
       "\n",
       "   channel7  channel8  channel9  channel10  channel11  channel12  channel13  \\\n",
       "0   -150.32   -150.32     99.92    -110.53      59.24     -10.61       9.73   \n",
       "1   -150.32   -210.44    179.50     -30.06     149.43       9.73     -70.74   \n",
       "2    -70.74    -90.19    199.83     119.37     159.16      39.79     -10.61   \n",
       "3    -10.61      0.00    179.50     209.56     109.64      89.31      19.45   \n",
       "4     39.79    199.83     79.58     239.62     -70.74      79.58      79.58   \n",
       "\n",
       "   channel14  channel15  label  \n",
       "0     379.33       0.00      0  \n",
       "1     439.46       9.73      0  \n",
       "2     439.46     -20.34      0  \n",
       "3     359.88      19.45      0  \n",
       "4      59.24     -50.40      0  "
      ]
     },
     "execution_count": 4,
     "metadata": {},
     "output_type": "execute_result"
    }
   ],
   "source": [
    "df = pd.read_csv(\"combined_eeg_data.csv\")\n",
    "df = df.drop('file_name', axis=1)\n",
    "df.head()"
   ]
  },
  {
   "cell_type": "code",
   "execution_count": 5,
   "id": "6f27a9df-2532-45ab-9698-a0177078ae8e",
   "metadata": {},
   "outputs": [],
   "source": [
    "from sklearn.model_selection import train_test_split\n",
    "from sklearn.preprocessing import StandardScaler"
   ]
  },
  {
   "cell_type": "code",
   "execution_count": 6,
   "id": "f0cd620f-949b-4630-abd7-0f0c0aff21a4",
   "metadata": {},
   "outputs": [],
   "source": [
    "X = df.drop(['label'], axis=1)  # EEG channels are the features\n",
    "y = df['label']  # Target labels (0 for healthy, 1 for schizophrenic)"
   ]
  },
  {
   "cell_type": "code",
   "execution_count": 7,
   "id": "456b69fb-66d9-4798-a010-f446e01caff6",
   "metadata": {},
   "outputs": [],
   "source": [
    "X_train, X_test, y_train, y_test = train_test_split(X, y, test_size=0.2, random_state=42)"
   ]
  },
  {
   "cell_type": "code",
   "execution_count": 8,
   "id": "d4a7afde-e2ef-4671-9a1b-86e6ea96c2ba",
   "metadata": {},
   "outputs": [
    {
     "name": "stdout",
     "output_type": "stream",
     "text": [
      "[0 1]\n"
     ]
    }
   ],
   "source": [
    "print(np.unique(y))"
   ]
  },
  {
   "cell_type": "code",
   "execution_count": 9,
   "id": "147a9b58-84f1-452a-9445-6241d8e90e3b",
   "metadata": {},
   "outputs": [],
   "source": [
    "X_train = X_train.values.reshape(X_train.shape[0], X_train.shape[1], 1)\n",
    "X_test = X_test.values.reshape(X_test.shape[0], X_test.shape[1], 1)"
   ]
  },
  {
   "cell_type": "code",
   "execution_count": 10,
   "id": "eef7973b-0395-4d0e-95a8-b06bc0955168",
   "metadata": {},
   "outputs": [],
   "source": [
    "scaler = StandardScaler()\n",
    "X_train = scaler.fit_transform(X_train.reshape(-1, X_train.shape[-1])).reshape(X_train.shape)\n",
    "X_test = scaler.transform(X_test.reshape(-1, X_test.shape[-1])).reshape(X_test.shape)"
   ]
  },
  {
   "cell_type": "code",
   "execution_count": 11,
   "id": "2c3772d9-fc67-4b7b-8277-65e36817e858",
   "metadata": {},
   "outputs": [],
   "source": [
    "import tensorflow as tf\n",
    "from tensorflow.keras.models import Sequential\n",
    "from tensorflow.keras.layers import Conv1D, Dense, Flatten, Input\n",
    "from tensorflow.keras.utils import plot_model"
   ]
  },
  {
   "cell_type": "code",
   "execution_count": 12,
   "id": "5bb5dd5a-1ed3-47ed-b554-a02e633afb7f",
   "metadata": {},
   "outputs": [],
   "source": [
    "CNN_model = Sequential()"
   ]
  },
  {
   "cell_type": "code",
   "execution_count": 13,
   "id": "a7f13f28-8ae7-42e2-b8e3-8134b8a572e3",
   "metadata": {},
   "outputs": [],
   "source": [
    "# Input layer using Input() to define the input shape\n",
    "CNN_model.add(Input(shape=(X_train.shape[1], 1)))"
   ]
  },
  {
   "cell_type": "code",
   "execution_count": 14,
   "id": "4e67b0d4-69b2-49ec-9680-9a4a81177407",
   "metadata": {},
   "outputs": [],
   "source": [
    "# Add a Conv1D layer\n",
    "CNN_model.add(Conv1D(filters=64, kernel_size=2, activation='relu'))"
   ]
  },
  {
   "cell_type": "code",
   "execution_count": 15,
   "id": "1c3944d4-3b28-4a41-b94c-f78ce2c4aecd",
   "metadata": {},
   "outputs": [],
   "source": [
    "# Flatten the output of the Conv1D layer before feeding into Dense layers\n",
    "CNN_model.add(Flatten())"
   ]
  },
  {
   "cell_type": "code",
   "execution_count": 16,
   "id": "353f64a5-f039-442c-9d76-f0331896e96c",
   "metadata": {},
   "outputs": [],
   "source": [
    "# Adding a Dense layer for further learning\n",
    "CNN_model.add(Dense(64, activation='relu'))"
   ]
  },
  {
   "cell_type": "code",
   "execution_count": 17,
   "id": "9e48949d-00be-4ca0-a916-fb36a2ff5844",
   "metadata": {},
   "outputs": [],
   "source": [
    "# Output layer for binary classification (healthy = 0, schizophrenia = 1)\n",
    "CNN_model.add(Dense(1, activation='sigmoid'))"
   ]
  },
  {
   "cell_type": "code",
   "execution_count": 18,
   "id": "1da0f998-b65e-46fe-bdf6-6ca46965f892",
   "metadata": {},
   "outputs": [],
   "source": [
    "CNN_model.compile(optimizer='adam', loss='binary_crossentropy', metrics=['accuracy'])"
   ]
  },
  {
   "cell_type": "code",
   "execution_count": 19,
   "id": "f6131a97-3204-4619-a49f-625f2bb5f632",
   "metadata": {},
   "outputs": [
    {
     "data": {
      "text/html": [
       "<pre style=\"white-space:pre;overflow-x:auto;line-height:normal;font-family:Menlo,'DejaVu Sans Mono',consolas,'Courier New',monospace\"><span style=\"font-weight: bold\">Model: \"sequential\"</span>\n",
       "</pre>\n"
      ],
      "text/plain": [
       "\u001b[1mModel: \"sequential\"\u001b[0m\n"
      ]
     },
     "metadata": {},
     "output_type": "display_data"
    },
    {
     "data": {
      "text/html": [
       "<pre style=\"white-space:pre;overflow-x:auto;line-height:normal;font-family:Menlo,'DejaVu Sans Mono',consolas,'Courier New',monospace\">┏━━━━━━━━━━━━━━━━━━━━━━━━━━━━━━━━━┳━━━━━━━━━━━━━━━━━━━━━━━━┳━━━━━━━━━━━━━━━┓\n",
       "┃<span style=\"font-weight: bold\"> Layer (type)                    </span>┃<span style=\"font-weight: bold\"> Output Shape           </span>┃<span style=\"font-weight: bold\">       Param # </span>┃\n",
       "┡━━━━━━━━━━━━━━━━━━━━━━━━━━━━━━━━━╇━━━━━━━━━━━━━━━━━━━━━━━━╇━━━━━━━━━━━━━━━┩\n",
       "│ conv1d (<span style=\"color: #0087ff; text-decoration-color: #0087ff\">Conv1D</span>)                 │ (<span style=\"color: #00d7ff; text-decoration-color: #00d7ff\">None</span>, <span style=\"color: #00af00; text-decoration-color: #00af00\">15</span>, <span style=\"color: #00af00; text-decoration-color: #00af00\">64</span>)         │           <span style=\"color: #00af00; text-decoration-color: #00af00\">192</span> │\n",
       "├─────────────────────────────────┼────────────────────────┼───────────────┤\n",
       "│ flatten (<span style=\"color: #0087ff; text-decoration-color: #0087ff\">Flatten</span>)               │ (<span style=\"color: #00d7ff; text-decoration-color: #00d7ff\">None</span>, <span style=\"color: #00af00; text-decoration-color: #00af00\">960</span>)            │             <span style=\"color: #00af00; text-decoration-color: #00af00\">0</span> │\n",
       "├─────────────────────────────────┼────────────────────────┼───────────────┤\n",
       "│ dense (<span style=\"color: #0087ff; text-decoration-color: #0087ff\">Dense</span>)                   │ (<span style=\"color: #00d7ff; text-decoration-color: #00d7ff\">None</span>, <span style=\"color: #00af00; text-decoration-color: #00af00\">64</span>)             │        <span style=\"color: #00af00; text-decoration-color: #00af00\">61,504</span> │\n",
       "├─────────────────────────────────┼────────────────────────┼───────────────┤\n",
       "│ dense_1 (<span style=\"color: #0087ff; text-decoration-color: #0087ff\">Dense</span>)                 │ (<span style=\"color: #00d7ff; text-decoration-color: #00d7ff\">None</span>, <span style=\"color: #00af00; text-decoration-color: #00af00\">1</span>)              │            <span style=\"color: #00af00; text-decoration-color: #00af00\">65</span> │\n",
       "└─────────────────────────────────┴────────────────────────┴───────────────┘\n",
       "</pre>\n"
      ],
      "text/plain": [
       "┏━━━━━━━━━━━━━━━━━━━━━━━━━━━━━━━━━┳━━━━━━━━━━━━━━━━━━━━━━━━┳━━━━━━━━━━━━━━━┓\n",
       "┃\u001b[1m \u001b[0m\u001b[1mLayer (type)                   \u001b[0m\u001b[1m \u001b[0m┃\u001b[1m \u001b[0m\u001b[1mOutput Shape          \u001b[0m\u001b[1m \u001b[0m┃\u001b[1m \u001b[0m\u001b[1m      Param #\u001b[0m\u001b[1m \u001b[0m┃\n",
       "┡━━━━━━━━━━━━━━━━━━━━━━━━━━━━━━━━━╇━━━━━━━━━━━━━━━━━━━━━━━━╇━━━━━━━━━━━━━━━┩\n",
       "│ conv1d (\u001b[38;5;33mConv1D\u001b[0m)                 │ (\u001b[38;5;45mNone\u001b[0m, \u001b[38;5;34m15\u001b[0m, \u001b[38;5;34m64\u001b[0m)         │           \u001b[38;5;34m192\u001b[0m │\n",
       "├─────────────────────────────────┼────────────────────────┼───────────────┤\n",
       "│ flatten (\u001b[38;5;33mFlatten\u001b[0m)               │ (\u001b[38;5;45mNone\u001b[0m, \u001b[38;5;34m960\u001b[0m)            │             \u001b[38;5;34m0\u001b[0m │\n",
       "├─────────────────────────────────┼────────────────────────┼───────────────┤\n",
       "│ dense (\u001b[38;5;33mDense\u001b[0m)                   │ (\u001b[38;5;45mNone\u001b[0m, \u001b[38;5;34m64\u001b[0m)             │        \u001b[38;5;34m61,504\u001b[0m │\n",
       "├─────────────────────────────────┼────────────────────────┼───────────────┤\n",
       "│ dense_1 (\u001b[38;5;33mDense\u001b[0m)                 │ (\u001b[38;5;45mNone\u001b[0m, \u001b[38;5;34m1\u001b[0m)              │            \u001b[38;5;34m65\u001b[0m │\n",
       "└─────────────────────────────────┴────────────────────────┴───────────────┘\n"
      ]
     },
     "metadata": {},
     "output_type": "display_data"
    },
    {
     "data": {
      "text/html": [
       "<pre style=\"white-space:pre;overflow-x:auto;line-height:normal;font-family:Menlo,'DejaVu Sans Mono',consolas,'Courier New',monospace\"><span style=\"font-weight: bold\"> Total params: </span><span style=\"color: #00af00; text-decoration-color: #00af00\">61,761</span> (241.25 KB)\n",
       "</pre>\n"
      ],
      "text/plain": [
       "\u001b[1m Total params: \u001b[0m\u001b[38;5;34m61,761\u001b[0m (241.25 KB)\n"
      ]
     },
     "metadata": {},
     "output_type": "display_data"
    },
    {
     "data": {
      "text/html": [
       "<pre style=\"white-space:pre;overflow-x:auto;line-height:normal;font-family:Menlo,'DejaVu Sans Mono',consolas,'Courier New',monospace\"><span style=\"font-weight: bold\"> Trainable params: </span><span style=\"color: #00af00; text-decoration-color: #00af00\">61,761</span> (241.25 KB)\n",
       "</pre>\n"
      ],
      "text/plain": [
       "\u001b[1m Trainable params: \u001b[0m\u001b[38;5;34m61,761\u001b[0m (241.25 KB)\n"
      ]
     },
     "metadata": {},
     "output_type": "display_data"
    },
    {
     "data": {
      "text/html": [
       "<pre style=\"white-space:pre;overflow-x:auto;line-height:normal;font-family:Menlo,'DejaVu Sans Mono',consolas,'Courier New',monospace\"><span style=\"font-weight: bold\"> Non-trainable params: </span><span style=\"color: #00af00; text-decoration-color: #00af00\">0</span> (0.00 B)\n",
       "</pre>\n"
      ],
      "text/plain": [
       "\u001b[1m Non-trainable params: \u001b[0m\u001b[38;5;34m0\u001b[0m (0.00 B)\n"
      ]
     },
     "metadata": {},
     "output_type": "display_data"
    }
   ],
   "source": [
    "CNN_model.summary()"
   ]
  },
  {
   "cell_type": "code",
   "execution_count": 20,
   "id": "f4ad6ecb-3b3b-435a-a4ff-aeac211c8989",
   "metadata": {},
   "outputs": [
    {
     "name": "stdout",
     "output_type": "stream",
     "text": [
      "Epoch 1/20\n",
      "\u001b[1m15744/15744\u001b[0m \u001b[32m━━━━━━━━━━━━━━━━━━━━\u001b[0m\u001b[37m\u001b[0m \u001b[1m100s\u001b[0m 6ms/step - accuracy: 0.6447 - loss: 0.6217 - val_accuracy: 0.6824 - val_loss: 0.5842\n",
      "Epoch 2/20\n",
      "\u001b[1m15744/15744\u001b[0m \u001b[32m━━━━━━━━━━━━━━━━━━━━\u001b[0m\u001b[37m\u001b[0m \u001b[1m104s\u001b[0m 7ms/step - accuracy: 0.6863 - loss: 0.5792 - val_accuracy: 0.6906 - val_loss: 0.5743\n",
      "Epoch 3/20\n",
      "\u001b[1m15744/15744\u001b[0m \u001b[32m━━━━━━━━━━━━━━━━━━━━\u001b[0m\u001b[37m\u001b[0m \u001b[1m89s\u001b[0m 6ms/step - accuracy: 0.6945 - loss: 0.5693 - val_accuracy: 0.6946 - val_loss: 0.5708\n",
      "Epoch 4/20\n",
      "\u001b[1m15744/15744\u001b[0m \u001b[32m━━━━━━━━━━━━━━━━━━━━\u001b[0m\u001b[37m\u001b[0m \u001b[1m99s\u001b[0m 6ms/step - accuracy: 0.6999 - loss: 0.5626 - val_accuracy: 0.6998 - val_loss: 0.5628\n",
      "Epoch 5/20\n",
      "\u001b[1m15744/15744\u001b[0m \u001b[32m━━━━━━━━━━━━━━━━━━━━\u001b[0m\u001b[37m\u001b[0m \u001b[1m107s\u001b[0m 7ms/step - accuracy: 0.7042 - loss: 0.5569 - val_accuracy: 0.7036 - val_loss: 0.5584\n",
      "Epoch 6/20\n",
      "\u001b[1m15744/15744\u001b[0m \u001b[32m━━━━━━━━━━━━━━━━━━━━\u001b[0m\u001b[37m\u001b[0m \u001b[1m91s\u001b[0m 6ms/step - accuracy: 0.7081 - loss: 0.5532 - val_accuracy: 0.7027 - val_loss: 0.5613\n",
      "Epoch 7/20\n",
      "\u001b[1m15744/15744\u001b[0m \u001b[32m━━━━━━━━━━━━━━━━━━━━\u001b[0m\u001b[37m\u001b[0m \u001b[1m89s\u001b[0m 6ms/step - accuracy: 0.7109 - loss: 0.5500 - val_accuracy: 0.7073 - val_loss: 0.5557\n",
      "Epoch 8/20\n",
      "\u001b[1m15744/15744\u001b[0m \u001b[32m━━━━━━━━━━━━━━━━━━━━\u001b[0m\u001b[37m\u001b[0m \u001b[1m88s\u001b[0m 6ms/step - accuracy: 0.7129 - loss: 0.5465 - val_accuracy: 0.7086 - val_loss: 0.5537\n",
      "Epoch 9/20\n",
      "\u001b[1m15744/15744\u001b[0m \u001b[32m━━━━━━━━━━━━━━━━━━━━\u001b[0m\u001b[37m\u001b[0m \u001b[1m102s\u001b[0m 6ms/step - accuracy: 0.7138 - loss: 0.5451 - val_accuracy: 0.7075 - val_loss: 0.5538\n",
      "Epoch 10/20\n",
      "\u001b[1m15744/15744\u001b[0m \u001b[32m━━━━━━━━━━━━━━━━━━━━\u001b[0m\u001b[37m\u001b[0m \u001b[1m100s\u001b[0m 6ms/step - accuracy: 0.7166 - loss: 0.5419 - val_accuracy: 0.7061 - val_loss: 0.5556\n",
      "Epoch 11/20\n",
      "\u001b[1m15744/15744\u001b[0m \u001b[32m━━━━━━━━━━━━━━━━━━━━\u001b[0m\u001b[37m\u001b[0m \u001b[1m96s\u001b[0m 6ms/step - accuracy: 0.7177 - loss: 0.5408 - val_accuracy: 0.7116 - val_loss: 0.5488\n",
      "Epoch 12/20\n",
      "\u001b[1m15744/15744\u001b[0m \u001b[32m━━━━━━━━━━━━━━━━━━━━\u001b[0m\u001b[37m\u001b[0m \u001b[1m97s\u001b[0m 6ms/step - accuracy: 0.7199 - loss: 0.5379 - val_accuracy: 0.7108 - val_loss: 0.5513\n",
      "Epoch 13/20\n",
      "\u001b[1m15744/15744\u001b[0m \u001b[32m━━━━━━━━━━━━━━━━━━━━\u001b[0m\u001b[37m\u001b[0m \u001b[1m137s\u001b[0m 6ms/step - accuracy: 0.7194 - loss: 0.5379 - val_accuracy: 0.7104 - val_loss: 0.5497\n",
      "Epoch 14/20\n",
      "\u001b[1m15744/15744\u001b[0m \u001b[32m━━━━━━━━━━━━━━━━━━━━\u001b[0m\u001b[37m\u001b[0m \u001b[1m76s\u001b[0m 5ms/step - accuracy: 0.7213 - loss: 0.5358 - val_accuracy: 0.7115 - val_loss: 0.5500\n",
      "Epoch 15/20\n",
      "\u001b[1m15744/15744\u001b[0m \u001b[32m━━━━━━━━━━━━━━━━━━━━\u001b[0m\u001b[37m\u001b[0m \u001b[1m88s\u001b[0m 5ms/step - accuracy: 0.7216 - loss: 0.5346 - val_accuracy: 0.7126 - val_loss: 0.5479\n",
      "Epoch 16/20\n",
      "\u001b[1m15744/15744\u001b[0m \u001b[32m━━━━━━━━━━━━━━━━━━━━\u001b[0m\u001b[37m\u001b[0m \u001b[1m84s\u001b[0m 5ms/step - accuracy: 0.7228 - loss: 0.5335 - val_accuracy: 0.7143 - val_loss: 0.5449\n",
      "Epoch 17/20\n",
      "\u001b[1m15744/15744\u001b[0m \u001b[32m━━━━━━━━━━━━━━━━━━━━\u001b[0m\u001b[37m\u001b[0m \u001b[1m155s\u001b[0m 6ms/step - accuracy: 0.7238 - loss: 0.5331 - val_accuracy: 0.7140 - val_loss: 0.5470\n",
      "Epoch 18/20\n",
      "\u001b[1m15744/15744\u001b[0m \u001b[32m━━━━━━━━━━━━━━━━━━━━\u001b[0m\u001b[37m\u001b[0m \u001b[1m98s\u001b[0m 6ms/step - accuracy: 0.7255 - loss: 0.5306 - val_accuracy: 0.7082 - val_loss: 0.5562\n",
      "Epoch 19/20\n",
      "\u001b[1m15744/15744\u001b[0m \u001b[32m━━━━━━━━━━━━━━━━━━━━\u001b[0m\u001b[37m\u001b[0m \u001b[1m95s\u001b[0m 6ms/step - accuracy: 0.7263 - loss: 0.5302 - val_accuracy: 0.7154 - val_loss: 0.5451\n",
      "Epoch 20/20\n",
      "\u001b[1m15744/15744\u001b[0m \u001b[32m━━━━━━━━━━━━━━━━━━━━\u001b[0m\u001b[37m\u001b[0m \u001b[1m86s\u001b[0m 5ms/step - accuracy: 0.7268 - loss: 0.5286 - val_accuracy: 0.7159 - val_loss: 0.5443\n"
     ]
    }
   ],
   "source": [
    "# Training the model\n",
    "history = CNN_model.fit(X_train, y_train, epochs=20, batch_size=32, validation_data=(X_test, y_test))"
   ]
  },
  {
   "cell_type": "code",
   "execution_count": 21,
   "id": "3076b39f-dc78-492e-aa5f-df795c02cd44",
   "metadata": {},
   "outputs": [
    {
     "name": "stdout",
     "output_type": "stream",
     "text": [
      "\u001b[1m3936/3936\u001b[0m \u001b[32m━━━━━━━━━━━━━━━━━━━━\u001b[0m\u001b[37m\u001b[0m \u001b[1m11s\u001b[0m 3ms/step\n"
     ]
    }
   ],
   "source": [
    "# Evaluating the model\n",
    "y_pred_cnn = (CNN_model.predict(X_test) > 0.5).astype(int)\n"
   ]
  },
  {
   "cell_type": "code",
   "execution_count": 22,
   "id": "df82b5e7-4811-4bb4-9b30-79ddeb6afbb4",
   "metadata": {},
   "outputs": [],
   "source": [
    "from sklearn.metrics import accuracy_score, confusion_matrix, classification_report"
   ]
  },
  {
   "cell_type": "code",
   "execution_count": 23,
   "id": "12ea009e-0b02-4d7f-836d-5fa012e21f35",
   "metadata": {},
   "outputs": [],
   "source": [
    "accuracy_cnn = accuracy_score(y_test, y_pred_cnn)\n",
    "conf_matrix_cnn = confusion_matrix(y_test, y_pred_cnn)\n",
    "class_report_cnn = classification_report(y_test, y_pred_cnn)"
   ]
  },
  {
   "cell_type": "code",
   "execution_count": 24,
   "id": "ee88d37b-a9b6-4c95-9642-ff0f0d57bb8e",
   "metadata": {},
   "outputs": [
    {
     "name": "stdout",
     "output_type": "stream",
     "text": [
      "Accuracy: 0.7159\n",
      "Confusion Matrix:\n",
      "[[38428 19845]\n",
      " [15935 51744]]\n",
      "Classification Report:\n",
      "              precision    recall  f1-score   support\n",
      "\n",
      "           0       0.71      0.66      0.68     58273\n",
      "           1       0.72      0.76      0.74     67679\n",
      "\n",
      "    accuracy                           0.72    125952\n",
      "   macro avg       0.71      0.71      0.71    125952\n",
      "weighted avg       0.72      0.72      0.71    125952\n",
      "\n"
     ]
    }
   ],
   "source": [
    "print(f\"Accuracy: {accuracy_cnn:.4f}\")\n",
    "print(\"Confusion Matrix:\")\n",
    "print(conf_matrix_cnn)\n",
    "print(\"Classification Report:\")\n",
    "print(class_report_cnn)"
   ]
  },
  {
   "cell_type": "code",
   "execution_count": 25,
   "id": "ba418901-3f33-402d-aa76-c717309674af",
   "metadata": {},
   "outputs": [],
   "source": [
    "import seaborn as sns"
   ]
  },
  {
   "cell_type": "code",
   "execution_count": 26,
   "id": "4838c8c5-c70f-4fa2-b821-cc8b3394d9e3",
   "metadata": {},
   "outputs": [
    {
     "data": {
      "image/png": "[encoded data removed]",
      "text/plain": [
       "<Figure size 600x400 with 1 Axes>"
      ]
     },
     "metadata": {},
     "output_type": "display_data"
    }
   ],
   "source": [
    "plt.figure(figsize=(6, 4))\n",
    "sns.heatmap(conf_matrix_cnn, annot=True, fmt=\"d\", cmap=\"Blues\", cbar=False)\n",
    "plt.title('Confusion Matrix')\n",
    "plt.ylabel('True Label')\n",
    "plt.xlabel('Predicted Label')\n",
    "plt.show()"
   ]
  },
  {
   "cell_type": "code",
   "execution_count": 27,
   "id": "f4b82cfc-808e-4ffd-b45c-0b15e903fb60",
   "metadata": {},
   "outputs": [
    {
     "data": {
      "text/plain": [
       "<Figure size 1200x400 with 0 Axes>"
      ]
     },
     "execution_count": 27,
     "metadata": {},
     "output_type": "execute_result"
    },
    {
     "data": {
      "text/plain": [
       "<Figure size 1200x400 with 0 Axes>"
      ]
     },
     "metadata": {},
     "output_type": "display_data"
    }
   ],
   "source": [
    "plt.figure(figsize=(12, 4))"
   ]
  },
  {
   "cell_type": "code",
   "execution_count": 28,
   "id": "4db2eeac-a5a3-4460-b7cd-1aab5a995ff8",
   "metadata": {},
   "outputs": [
    {
     "data": {
      "text/plain": [
       "<matplotlib.legend.Legend at 0x140b799c500>"
      ]
     },
     "execution_count": 28,
     "metadata": {},
     "output_type": "execute_result"
    },
    {
     "data": {
      "image/png": "[encoded data removed]",
      "text/plain": [
       "<Figure size 640x480 with 1 Axes>"
      ]
     },
     "metadata": {},
     "output_type": "display_data"
    }
   ],
   "source": [
    "plt.subplot(1, 2, 1)\n",
    "plt.plot(history.history['accuracy'], label='Train Accuracy')\n",
    "plt.plot(history.history['val_accuracy'], label='Validation Accuracy')\n",
    "plt.title('Training and Validation Accuracy')\n",
    "plt.xlabel('Epochs')\n",
    "plt.ylabel('Accuracy')\n",
    "plt.legend()"
   ]
  },
  {
   "cell_type": "code",
   "execution_count": 29,
   "id": "fa946fff-2d8d-4128-bb05-5fd9fdff08f9",
   "metadata": {},
   "outputs": [
    {
     "data": {
      "text/plain": [
       "<matplotlib.legend.Legend at 0x140b7a6d9a0>"
      ]
     },
     "execution_count": 29,
     "metadata": {},
     "output_type": "execute_result"
    },
    {
     "data": {
      "image/png": "[encoded data removed]",
      "text/plain": [
       "<Figure size 640x480 with 1 Axes>"
      ]
     },
     "metadata": {},
     "output_type": "display_data"
    }
   ],
   "source": [
    "plt.subplot(1, 2, 2)\n",
    "plt.plot(history.history['loss'], label='Train Loss')\n",
    "plt.plot(history.history['val_loss'], label='Validation Loss')\n",
    "plt.title('Training and Validation Loss')\n",
    "plt.xlabel('Epochs')\n",
    "plt.ylabel('Loss')\n",
    "plt.legend()"
   ]
  },
  {
   "cell_type": "code",
   "execution_count": 30,
   "id": "808955be",
   "metadata": {},
   "outputs": [],
   "source": [
    "import pickle\n",
    "\n",
    "with open('model.pkl', 'wb') as f:\n",
    "    pickle.dump(CNN_model, f)"
   ]
  }
 ],
 "metadata": {
  "kernelspec": {
   "display_name": "Python 3 (ipykernel)",
   "language": "python",
   "name": "python3"
  },
  "language_info": {
   "codemirror_mode": {
    "name": "ipython",
    "version": 3
   },
   "file_extension": ".py",
   "mimetype": "text/x-python",
   "name": "python",
   "nbconvert_exporter": "python",
   "pygments_lexer": "ipython3",
   "version": "3.12.5"
  }
 },
 "nbformat": 4,
 "nbformat_minor": 5
}
